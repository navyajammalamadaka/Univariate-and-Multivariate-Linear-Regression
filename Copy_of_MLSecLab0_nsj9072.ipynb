{
  "nbformat": 4,
  "nbformat_minor": 0,
  "metadata": {
    "colab": {
      "provenance": [],
      "collapsed_sections": []
    },
    "kernelspec": {
      "name": "python3",
      "display_name": "Python 3"
    }
  },
  "cells": [
    {
      "cell_type": "markdown",
      "metadata": {
        "id": "dzl1DyP_ugzy"
      },
      "source": [
        "# Linear Regression"
      ]
    },
    {
      "cell_type": "markdown",
      "metadata": {
        "id": "5tbt-G25zmOE"
      },
      "source": [
        "## Univariate linear regression"
      ]
    },
    {
      "cell_type": "markdown",
      "metadata": {
        "id": "mjroJgG1M24X"
      },
      "source": [
        "The code below generates a synthetic training dataset assuming that the response y is a linear function of an attribute x. This is referred to as a generative model.\n",
        "\n",
        "Complete the code to determine the the optimal linear regression coefficients for the data that minimizes mean square error using (1) analytical expression we learned in class; and (2) using the \"polyfit\" and \"polyval\" functions from the numpy.polynomial.polynomial class.\n"
      ]
    },
    {
      "cell_type": "markdown",
      "metadata": {
        "id": "ozFgM3c-zaBw"
      },
      "source": [
        "### Generate Data"
      ]
    },
    {
      "cell_type": "code",
      "metadata": {
        "id": "WTzKJ4iZycSW",
        "colab": {
          "base_uri": "https://localhost:8080/",
          "height": 282
        },
        "outputId": "c53ddc7b-c798-49bf-82bb-d881d887ace5"
      },
      "source": [
        "import numpy as np\n",
        "import numpy.polynomial.polynomial as poly\n",
        "import matplotlib.pyplot as plt\n",
        "\n",
        "nsamp = 100;\n",
        "wstd = 0.2;\n",
        "beta = np.array([2,3]);\n",
        "\n",
        "# Training data points\n",
        "xd = np.random.uniform(-1,1,nsamp);\n",
        "y0 = poly.polyval(xd,beta);\n",
        "yd = y0 + np.random.normal(0,wstd,nsamp);\n",
        "\n",
        "fig, ax = plt.subplots()\n",
        "ax.scatter(xd, yd)"
      ],
      "execution_count": 18,
      "outputs": [
        {
          "output_type": "execute_result",
          "data": {
            "text/plain": [
              "<matplotlib.collections.PathCollection at 0x7f811eef5b50>"
            ]
          },
          "metadata": {},
          "execution_count": 18
        },
        {
          "output_type": "display_data",
          "data": {
            "text/plain": [
              "<Figure size 432x288 with 1 Axes>"
            ],
            "image/png": "[encoded data removed]"
          },
          "metadata": {
            "needs_background": "light"
          }
        }
      ]
    },
    {
      "cell_type": "markdown",
      "metadata": {
        "id": "ylmbDmHf0S4O"
      },
      "source": [
        "### Analytical Model"
      ]
    },
    {
      "cell_type": "markdown",
      "metadata": {
        "id": "-lUVkaqL0XGA"
      },
      "source": [
        "**Q1**: Complete the code below using closed form expressions for $\\beta_0, \\beta_1$."
      ]
    },
    {
      "cell_type": "code",
      "metadata": {
        "id": "pDGDa5ECydkV"
      },
      "source": [
        "#Analytical model\n",
        "xm=np.mean(xd)\n",
        "ym=np.mean(yd)\n",
        "syy=np.mean((yd-ym)**2)\n",
        "syx=np.mean((yd-ym)*(xd-xm))\n",
        "sxx=np.mean((xd-xm)**2)\n",
        "\n",
        "beta1 = syx/sxx\n",
        "beta0 = ym-beta1*xm\n",
        "analyticalModel = np.array([beta0,beta1])"
      ],
      "execution_count": 19,
      "outputs": []
    },
    {
      "cell_type": "code",
      "source": [
        "print(beta1)\n",
        "print(beta0)"
      ],
      "metadata": {
        "colab": {
          "base_uri": "https://localhost:8080/"
        },
        "id": "0kKDgEK4GV2V",
        "outputId": "94fa8b98-5aa9-41f3-bb2e-04b0cf029fbb"
      },
      "execution_count": 20,
      "outputs": [
        {
          "output_type": "stream",
          "name": "stdout",
          "text": [
            "3.009989705572895\n",
            "2.009758674531823\n"
          ]
        }
      ]
    },
    {
      "cell_type": "markdown",
      "metadata": {
        "id": "9FtiGMN23KIC"
      },
      "source": [
        "### Evaluate Your Model"
      ]
    },
    {
      "cell_type": "markdown",
      "metadata": {
        "id": "6RypRZjK-qz7"
      },
      "source": [
        "**Q2**: Obtain predictions from your analytical model for randomly generated inputs. Next use the in-built polyfit function to do the same. "
      ]
    },
    {
      "cell_type": "markdown",
      "metadata": {
        "id": "nDCkRp5n-OCs"
      },
      "source": [
        "**Analytical Model Result**"
      ]
    },
    {
      "cell_type": "code",
      "metadata": {
        "id": "vSFfG0jV4Ozu"
      },
      "source": [
        "#evaluate your model\n",
        "\n",
        "# new data\n",
        "# generate uniform points between -1 and 1\n",
        "xplot = np.random.uniform(-1,1,nsamp);\n",
        "\n",
        "# prediction\n",
        "# get prediction on data xplot\n",
        "ypredict = analyticalModel[1]*xplot + analyticalModel[0];\n",
        "\n",
        "# fig, ax = plt.subplots()\n",
        "# ax.scatter(xplot, ypredict)"
      ],
      "execution_count": 21,
      "outputs": []
    },
    {
      "cell_type": "markdown",
      "metadata": {
        "id": "k1bw1Gk452cx"
      },
      "source": [
        "**Polyfit Model Prediction**"
      ]
    },
    {
      "cell_type": "code",
      "metadata": {
        "id": "1Cg67BEu571y"
      },
      "source": [
        "polyfitModel = np.polyfit(xplot,yd,1)\n",
        "yfit = np.polyval(polyfitModel,xplot)# use the polyval function to evaluate polyfitModel at x = xplot "
      ],
      "execution_count": 22,
      "outputs": []
    },
    {
      "cell_type": "markdown",
      "metadata": {
        "id": "ZV1pG9Py4rm2"
      },
      "source": [
        "### Plot Result"
      ]
    },
    {
      "cell_type": "markdown",
      "metadata": {
        "id": "eK9RYWqW-zK4"
      },
      "source": [
        "**Q3**: Plot results of polyfit model and analytical model. The plots should contain both the (x,y) training data points and the fitted lines."
      ]
    },
    {
      "cell_type": "code",
      "metadata": {
        "id": "fh1xyJ7A4tes",
        "colab": {
          "base_uri": "https://localhost:8080/",
          "height": 295
        },
        "outputId": "9176d072-31f3-4744-ea9c-6899d44ec500"
      },
      "source": [
        "#plot your results\n",
        "fig, ax = plt.subplots()\n",
        "ax.scatter(xd, yd)\n",
        "\n",
        "# Plot polyfit model and analytical model result:\n",
        "# Your Code\n",
        "ax.plot(xplot, ypredict, color='red')\n",
        "ax.plot(xplot, yfit, color='yellow')\n",
        "\n",
        "ax.set(xlabel='X', ylabel='Y',\n",
        "       title='Linear Regression')\n",
        "ax.grid()\n",
        "plt.show()"
      ],
      "execution_count": 23,
      "outputs": [
        {
          "output_type": "display_data",
          "data": {
            "text/plain": [
              "<Figure size 432x288 with 1 Axes>"
            ],
            "image/png": "[encoded data removed]"
          },
          "metadata": {
            "needs_background": "light"
          }
        }
      ]
    },
    {
      "cell_type": "markdown",
      "metadata": {
        "id": "tprivZbIUtOW"
      },
      "source": [
        "## Application of Linear Regression\n",
        "\n",
        "In this part, you'll use Linear Regression on a real-world dataset. The datatset contains sales number of a product versus the advertising of the product on TV, radio and newspaper. The question we want to ask is how advertising on each of these channels impacts sales."
      ]
    },
    {
      "cell_type": "markdown",
      "metadata": {
        "id": "1OEW6RGKVpXF"
      },
      "source": [
        "### Read Data\n",
        "\n",
        "**Q4**: Split data into train and test, by reserving **70** percent of the data for training and the rest for test. "
      ]
    },
    {
      "cell_type": "code",
      "metadata": {
        "id": "K_t22o9QWGF2",
        "colab": {
          "base_uri": "https://localhost:8080/"
        },
        "outputId": "f4097bdc-8a2d-42b8-bed3-93cd993f2c9f"
      },
      "source": [
        "import pandas as pd\n",
        "from sklearn.model_selection import train_test_split\n",
        "\n",
        "url = 'https://www.statlearning.com/s/Advertising.csv'\n",
        "df = pd.read_csv(url, index_col=0)\n",
        "df.head()\n",
        "\n",
        "train, test = train_test_split(df, test_size=0.3, random_state=25)\n",
        "print(train)"
      ],
      "execution_count": 24,
      "outputs": [
        {
          "output_type": "stream",
          "name": "stdout",
          "text": [
            "        TV  radio  newspaper  sales\n",
            "100  135.2   41.7       45.9   17.2\n",
            "74   129.4    5.7       31.3   11.0\n",
            "164  163.5   36.8        7.4   18.0\n",
            "148  243.2   49.0       44.3   25.4\n",
            "128   80.2    0.0        9.2    8.8\n",
            "..     ...    ...        ...    ...\n",
            "119  125.7   36.9       79.2   15.9\n",
            "62   261.3   42.7       54.7   24.2\n",
            "144  104.6    5.7       34.4   10.4\n",
            "63   239.3   15.5       27.3   15.7\n",
            "133    8.4   27.2        2.1    5.7\n",
            "\n",
            "[140 rows x 4 columns]\n"
          ]
        }
      ]
    },
    {
      "cell_type": "markdown",
      "metadata": {
        "id": "5ZTV3hyCXhnU"
      },
      "source": [
        "### Linear Regression Model"
      ]
    },
    {
      "cell_type": "markdown",
      "metadata": {
        "id": "kZvNEQsgWUnd"
      },
      "source": [
        "**Q5**: Use linear regression model to describe sales as a linear function  of advertising on TV, newspaper, and radio. That is, you should independently regress sales against advertising on each of these media."
      ]
    },
    {
      "cell_type": "code",
      "metadata": {
        "id": "6hd_KDngXIvB"
      },
      "source": [
        "import numpy as np\n",
        "\n",
        "sales_TV_beta     = np.polyfit(train[\"TV\"], train[\"sales\"], 1)\n",
        "sales_newspaper_beta  = np.polyfit(train[\"newspaper\"], train[\"sales\"], 1)\n",
        "sales_radio_beta    = np.polyfit(train[\"radio\"], train[\"sales\"], 1)"
      ],
      "execution_count": 25,
      "outputs": []
    },
    {
      "cell_type": "markdown",
      "metadata": {
        "id": "tSd1ziYgXgC0"
      },
      "source": [
        "### Plot Data\n",
        "\n",
        "**Q6**: Use the models to do prediction and plot *test* data points and predctions of 3 models"
      ]
    },
    {
      "cell_type": "code",
      "metadata": {
        "id": "G_1o75bdXwkn",
        "colab": {
          "base_uri": "https://localhost:8080/",
          "height": 208
        },
        "outputId": "c41dd2a5-5e36-49e6-e548-9843dbf00beb"
      },
      "source": [
        "fig = plt.figure(figsize=(12,3))\n",
        "\n",
        "## Sales to TV spend\n",
        "plt.subplot(1,3,1)\n",
        "x_tv = test.sort_values(by=['TV'])\n",
        "y_sales_tv = np.polyval(sales_TV_beta, x_tv[\"TV\"])\n",
        "plt.plot(x_tv[\"TV\"], y_sales_tv, color = \"red\")\n",
        "plt.scatter(test[\"TV\"], test[\"sales\"])\n",
        "\n",
        "## Sales to newspaper spend\n",
        "plt.subplot(1,3,2)\n",
        "x_newspaper = test.sort_values(by=['newspaper'])\n",
        "y_sales_newspaper = np.polyval(sales_newspaper_beta, x_newspaper[\"newspaper\"])\n",
        "plt.plot(x_newspaper[\"newspaper\"], y_sales_newspaper, color = \"red\")\n",
        "plt.scatter(test[\"newspaper\"], test[\"sales\"])\n",
        "\n",
        "## Sales to radio spend\n",
        "plt.subplot(1,3,3)\n",
        "x_radio = test.sort_values(by=['radio'])\n",
        "y_sales_radio = np.polyval(sales_radio_beta, x_radio[\"radio\"])\n",
        "plt.plot(x_radio[\"radio\"], y_sales_radio, color = \"red\")\n",
        "plt.scatter(test[\"radio\"], test[\"sales\"])\n"
      ],
      "execution_count": 26,
      "outputs": [
        {
          "output_type": "execute_result",
          "data": {
            "text/plain": [
              "<matplotlib.collections.PathCollection at 0x7f811ed18310>"
            ]
          },
          "metadata": {},
          "execution_count": 26
        },
        {
          "output_type": "display_data",
          "data": {
            "text/plain": [
              "<Figure size 864x216 with 3 Axes>"
            ],
            "image/png": "[encoded data removed]"
          },
          "metadata": {
            "needs_background": "light"
          }
        }
      ]
    },
    {
      "cell_type": "markdown",
      "metadata": {
        "id": "uJVfnwMeZm43"
      },
      "source": [
        "## Multivariate Linear Regression\n",
        "\n",
        "**Q7**: Use all three features ('TV', 'Radio', newspaper') to predict sales using multivariate linear regression."
      ]
    },
    {
      "cell_type": "code",
      "metadata": {
        "id": "wv4fhP-LdOiJ"
      },
      "source": [
        "\n",
        "# Define training X matrix\n",
        "X = np.vstack((np.ones(train['newspaper'].size), train['newspaper'], train['radio'], train['TV']))\n",
        "trainX = X.transpose()\n",
        "\n",
        "# Define training Y matrix\n",
        "trainY = np.vstack((train['sales']))\n",
        "\n",
        "# Get your Model(Using the closed form in class)\n",
        "multivariate_beta = np.dot(np.linalg.inv(np.dot(X, trainX)), np.dot(X, trainY))"
      ],
      "execution_count": 27,
      "outputs": []
    },
    {
      "cell_type": "markdown",
      "metadata": {
        "id": "nbYrPsvyO588"
      },
      "source": [
        "### Evaluate Model\n",
        "\n",
        "**Q8**: use your multivariate model to do predictions on test data"
      ]
    },
    {
      "cell_type": "code",
      "metadata": {
        "id": "8Goo4MfdNvuY"
      },
      "source": [
        "# Define testing X matrix\n",
        "X = np.vstack((np.ones(test['newspaper'].size), test['newspaper'], test['radio'], test['TV']))\n",
        "testX = X.transpose()\n",
        "\n",
        "# Define testing Y matrix\n",
        "testY = np.vstack((test['sales']))\n",
        "\n",
        "# Predcit result using your model multivariate_beta\n",
        "pred = np.dot(testX, multivariate_beta)"
      ],
      "execution_count": 28,
      "outputs": []
    },
    {
      "cell_type": "markdown",
      "metadata": {
        "id": "sCP2X-SWPcsr"
      },
      "source": [
        "### Plot Result\n",
        "\n",
        "**Q9**: Plot your predictions against real labels."
      ]
    },
    {
      "cell_type": "code",
      "metadata": {
        "id": "sLG7eh7JNb8p",
        "colab": {
          "base_uri": "https://localhost:8080/",
          "height": 295
        },
        "outputId": "083a88d6-df3c-4ab1-b3bf-abdc0802edc6"
      },
      "source": [
        "fig, ax = plt.subplots()\n",
        "\n",
        "ax.scatter(testY, pred, color = \"green\")\n",
        "\n",
        "ax.set(xlabel='Actual Sales', ylabel='Predict Sales',\n",
        "       title='Multivariate Linear Regression')\n",
        "ax.grid()\n",
        "plt.show()"
      ],
      "execution_count": 29,
      "outputs": [
        {
          "output_type": "display_data",
          "data": {
            "text/plain": [
              "<Figure size 432x288 with 1 Axes>"
            ],
            "image/png": "[encoded data removed]"
          },
          "metadata": {
            "needs_background": "light"
          }
        }
      ]
    }
  ]
}